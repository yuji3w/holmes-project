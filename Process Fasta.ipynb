{
 "cells": [
  {
   "cell_type": "code",
   "execution_count": 1,
   "metadata": {},
   "outputs": [],
   "source": [
    "%matplotlib inline\n",
    "\n",
    "import matplotlib\n",
    "import numpy as np\n",
    "import matplotlib.pyplot as plt\n",
    "import sys, os\n",
    "import numpy as np"
   ]
  },
  {
   "cell_type": "code",
   "execution_count": 2,
   "metadata": {},
   "outputs": [],
   "source": [
    "path_to_file = os.path.join(os.getcwd(),\"nc_000913.pal\")\n",
    "file = open(path_to_file, \"r\")\n",
    "lines = file.read().splitlines()"
   ]
  },
  {
   "cell_type": "code",
   "execution_count": 3,
   "metadata": {},
   "outputs": [],
   "source": [
    "def make_seq_data(positions1, positions2, basecalls1, basecalls2):\n",
    "    return [positions1, positions2, basecalls1, basecalls2]\n",
    "\n",
    "def get_start_pos(seq_data, seqno):\n",
    "    #takes in SEQNO 0 or 1 to return the starting position\n",
    "    return seq_data[seqno][0]\n",
    "\n",
    "def get_end_pos(seq_data, seqno):\n",
    "    #takes in SEQNO 0 or 1 to return the starting position\n",
    "    return seq_data[seqno][1]\n",
    "\n",
    "list_of_seqs = []\n",
    "for i in range(1, len(lines)):\n",
    "    if \"|\" in lines[i]:\n",
    "        positions1 = [int(n) for n in lines[i - 1].split() if n.isdigit()]\n",
    "        basecalls1 = [n for n in lines[i - 1].split() if not n.isdigit()]\n",
    "        positions2 = [int(n) for n in lines[i + 1].split() if n.isdigit()]\n",
    "        positions2.reverse()\n",
    "        basecalls2 = [n for n in lines[i + 1].split() if not n.isdigit()]\n",
    "        list_of_seqs.append(make_seq_data(positions1, positions2, basecalls1, basecalls2))\n",
    "\n",
    "def find_hyperparam_no(data_in_lines, lookup):\n",
    "    for line in data_in_lines:\n",
    "        if lookup in line:\n",
    "            hyperparam = [int(n) for n in line.split() if n.isdigit()]\n",
    "    assert len(hyperparam) == 1, \"Mismatched number of ints\"\n",
    "    return hyperparam[0]\n",
    "\n",
    "min_len_pal_hyperparam = find_hyperparam_no(lines, \"Minimum length of Palindromes\")\n",
    "max_len_pal_hyperparam = find_hyperparam_no(lines, \"Maximum length of Palindromes\")\n",
    "max_gap_pal_hyperparam = find_hyperparam_no(lines, \"Maximum gap between elements\")\n",
    "max_mis_pal_hyperparam = find_hyperparam_no(lines, \"Number of mismatches allowed\")"
   ]
  },
  {
   "cell_type": "code",
   "execution_count": 4,
   "metadata": {},
   "outputs": [],
   "source": [
    "#find length of inverted repeat vs nonrepeats\n",
    "len_repeats = []\n",
    "prop_pals = []\n",
    "for seq_data in list_of_seqs:\n",
    "    length_of_palindromes = get_end_pos(seq_data, 0) - get_start_pos(seq_data, 0)\n",
    "    length_of_sequence = get_end_pos(seq_data, 1) - get_start_pos(seq_data, 0)\n",
    "    proportion_palindromes = length_of_palindromes / length_of_sequence\n",
    "    \n",
    "    len_repeats.append(length_of_palindromes)\n",
    "    prop_pals.append(proportion_palindromes)"
   ]
  },
  {
   "cell_type": "code",
   "execution_count": 5,
   "metadata": {},
   "outputs": [
    {
     "data": {
      "image/png": "[encoded data removed]",
      "text/plain": [
       "<Figure size 432x288 with 1 Axes>"
      ]
     },
     "metadata": {
      "needs_background": "light"
     },
     "output_type": "display_data"
    }
   ],
   "source": [
    "plt.hist(len_repeats, bins = range(min(len_repeats), max(len_repeats) + 1, 1))\n",
    "plt.title(\"Histogram of Repeat Lengths\")\n",
    "plt.xlabel(\"Length of Repeat (bp)\")\n",
    "plt.ylabel(\"Number of Sequences\")\n",
    "plt.xticks(range(min(len_repeats), max(len_repeats) + 1, 1))\n",
    "#plt.show()\n",
    "\n",
    "saved_name = \"min_len_%d_max_len_%d_max_gap_%d_max_mis_%d\" % (min_len_pal_hyperparam,\n",
    "                                                              max_len_pal_hyperparam,\n",
    "                                                              max_gap_pal_hyperparam,\n",
    "                                                              max_mis_pal_hyperparam)\n",
    "plt.savefig(saved_name)"
   ]
  },
  {
   "cell_type": "code",
   "execution_count": null,
   "metadata": {},
   "outputs": [],
   "source": []
  }
 ],
 "metadata": {
  "kernelspec": {
   "display_name": "Python 3",
   "language": "python",
   "name": "python3"
  },
  "language_info": {
   "codemirror_mode": {
    "name": "ipython",
    "version": 3
   },
   "file_extension": ".py",
   "mimetype": "text/x-python",
   "name": "python",
   "nbconvert_exporter": "python",
   "pygments_lexer": "ipython3",
   "version": "3.7.3"
  }
 },
 "nbformat": 4,
 "nbformat_minor": 2
}
